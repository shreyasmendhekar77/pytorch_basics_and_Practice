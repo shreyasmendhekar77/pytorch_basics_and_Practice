{
 "cells": [
  {
   "cell_type": "markdown",
   "id": "c40d2acc",
   "metadata": {},
   "source": [
    "# Basic model for employee classification( wheather that employee will leave the org, or not)"
   ]
  },
  {
   "cell_type": "markdown",
   "id": "e615a392",
   "metadata": {},
   "source": [
    "Dataset analysis "
   ]
  },
  {
   "cell_type": "code",
   "execution_count": 13,
   "id": "4cf65f94",
   "metadata": {},
   "outputs": [],
   "source": [
    "import pandas as pd\n",
    "import sklearn\n",
    "from sklearn.model_selection import train_test_split\n",
    "from sklearn.preprocessing import StandardScaler, LabelEncoder\n",
    "import matplotlib.pyplot as plt\n",
    "import seaborn as sns"
   ]
  },
  {
   "cell_type": "code",
   "execution_count": 14,
   "id": "f1c818aa",
   "metadata": {},
   "outputs": [],
   "source": [
    "data=pd.read_csv('D:\\Deep_Learning\\Pytorch_practice\\Project_containing_all_pytorch_concepts\\Employee.csv')"
   ]
  },
  {
   "cell_type": "code",
   "execution_count": 15,
   "metadata": {},
   "outputs": [
    {
     "data": {
      "text/html": [
       "<div>\n",
       "<style scoped>\n",
       "    .dataframe tbody tr th:only-of-type {\n",
       "        vertical-align: middle;\n",
       "    }\n",
       "\n",
       "    .dataframe tbody tr th {\n",
       "        vertical-align: top;\n",
       "    }\n",
       "\n",
       "    .dataframe thead th {\n",
       "        text-align: right;\n",
       "    }\n",
       "</style>\n",
       "<table border=\"1\" class=\"dataframe\">\n",
       "  <thead>\n",
       "    <tr style=\"text-align: right;\">\n",
       "      <th></th>\n",
       "      <th>Education</th>\n",
       "      <th>JoiningYear</th>\n",
       "      <th>City</th>\n",
       "      <th>PaymentTier</th>\n",
       "      <th>Age</th>\n",
       "      <th>Gender</th>\n",
       "      <th>EverBenched</th>\n",
       "      <th>ExperienceInCurrentDomain</th>\n",
       "      <th>LeaveOrNot</th>\n",
       "    </tr>\n",
       "  </thead>\n",
       "  <tbody>\n",
       "    <tr>\n",
       "      <th>0</th>\n",
       "      <td>Bachelors</td>\n",
       "      <td>2017</td>\n",
       "      <td>Bangalore</td>\n",
       "      <td>3</td>\n",
       "      <td>34</td>\n",
       "      <td>Male</td>\n",
       "      <td>No</td>\n",
       "      <td>0</td>\n",
       "      <td>0</td>\n",
       "    </tr>\n",
       "    <tr>\n",
       "      <th>1</th>\n",
       "      <td>Bachelors</td>\n",
       "      <td>2013</td>\n",
       "      <td>Pune</td>\n",
       "      <td>1</td>\n",
       "      <td>28</td>\n",
       "      <td>Female</td>\n",
       "      <td>No</td>\n",
       "      <td>3</td>\n",
       "      <td>1</td>\n",
       "    </tr>\n",
       "    <tr>\n",
       "      <th>2</th>\n",
       "      <td>Bachelors</td>\n",
       "      <td>2014</td>\n",
       "      <td>New Delhi</td>\n",
       "      <td>3</td>\n",
       "      <td>38</td>\n",
       "      <td>Female</td>\n",
       "      <td>No</td>\n",
       "      <td>2</td>\n",
       "      <td>0</td>\n",
       "    </tr>\n",
       "    <tr>\n",
       "      <th>3</th>\n",
       "      <td>Masters</td>\n",
       "      <td>2016</td>\n",
       "      <td>Bangalore</td>\n",
       "      <td>3</td>\n",
       "      <td>27</td>\n",
       "      <td>Male</td>\n",
       "      <td>No</td>\n",
       "      <td>5</td>\n",
       "      <td>1</td>\n",
       "    </tr>\n",
       "    <tr>\n",
       "      <th>4</th>\n",
       "      <td>Masters</td>\n",
       "      <td>2017</td>\n",
       "      <td>Pune</td>\n",
       "      <td>3</td>\n",
       "      <td>24</td>\n",
       "      <td>Male</td>\n",
       "      <td>Yes</td>\n",
       "      <td>2</td>\n",
       "      <td>1</td>\n",
       "    </tr>\n",
       "  </tbody>\n",
       "</table>\n",
       "</div>"
      ],
      "text/plain": [
       "   Education  JoiningYear       City  PaymentTier  Age  Gender EverBenched  \\\n",
       "0  Bachelors         2017  Bangalore            3   34    Male          No   \n",
       "1  Bachelors         2013       Pune            1   28  Female          No   \n",
       "2  Bachelors         2014  New Delhi            3   38  Female          No   \n",
       "3    Masters         2016  Bangalore            3   27    Male          No   \n",
       "4    Masters         2017       Pune            3   24    Male         Yes   \n",
       "\n",
       "   ExperienceInCurrentDomain  LeaveOrNot  \n",
       "0                          0           0  \n",
       "1                          3           1  \n",
       "2                          2           0  \n",
       "3                          5           1  \n",
       "4                          2           1  "
      ]
     },
     "execution_count": 15,
     "metadata": {},
     "output_type": "execute_result"
    }
   ],
   "source": [
    "data.head()"
   ]
  },
  {
   "cell_type": "markdown",
   "id": "b8997a0d",
   "metadata": {},
   "source": [
    "No null values or missing elements in the data"
   ]
  },
  {
   "cell_type": "code",
   "execution_count": 16,
   "id": "7c9b26fa",
   "metadata": {},
   "outputs": [
    {
     "data": {
      "text/plain": [
       "Education                    0\n",
       "JoiningYear                  0\n",
       "City                         0\n",
       "PaymentTier                  0\n",
       "Age                          0\n",
       "Gender                       0\n",
       "EverBenched                  0\n",
       "ExperienceInCurrentDomain    0\n",
       "LeaveOrNot                   0\n",
       "dtype: int64"
      ]
     },
     "execution_count": 16,
     "metadata": {},
     "output_type": "execute_result"
    }
   ],
   "source": [
    "data.isnull().sum()"
   ]
  },
  {
   "cell_type": "markdown",
   "id": "53995276",
   "metadata": {},
   "source": [
    "Categorical variables in the dataset"
   ]
  },
  {
   "cell_type": "code",
   "execution_count": 17,
   "metadata": {},
   "outputs": [
    {
     "name": "stdout",
     "output_type": "stream",
     "text": [
      "<class 'pandas.core.frame.DataFrame'>\n",
      "RangeIndex: 4653 entries, 0 to 4652\n",
      "Data columns (total 9 columns):\n",
      " #   Column                     Non-Null Count  Dtype \n",
      "---  ------                     --------------  ----- \n",
      " 0   Education                  4653 non-null   object\n",
      " 1   JoiningYear                4653 non-null   int64 \n",
      " 2   City                       4653 non-null   object\n",
      " 3   PaymentTier                4653 non-null   int64 \n",
      " 4   Age                        4653 non-null   int64 \n",
      " 5   Gender                     4653 non-null   object\n",
      " 6   EverBenched                4653 non-null   object\n",
      " 7   ExperienceInCurrentDomain  4653 non-null   int64 \n",
      " 8   LeaveOrNot                 4653 non-null   int64 \n",
      "dtypes: int64(5), object(4)\n",
      "memory usage: 327.3+ KB\n"
     ]
    }
   ],
   "source": [
    "data.info()\n",
    "\n"
   ]
  },
  {
   "cell_type": "code",
   "execution_count": 18,
   "id": "7db1b525",
   "metadata": {},
   "outputs": [
    {
     "name": "stdout",
     "output_type": "stream",
     "text": [
      "Education : ['Bachelors' 'Masters' 'PHD']\n",
      "City : ['Bangalore' 'Pune' 'New Delhi']\n",
      "Gender : ['Male' 'Female']\n",
      "EverBenched : ['No' 'Yes']\n"
     ]
    }
   ],
   "source": [
    "# columns with categorical data\n",
    "categorical_col=data.select_dtypes(include=['object']).columns.tolist()\n",
    "\n",
    "for i in categorical_col:\n",
    "    print(f\"{i} : {data[i].unique()}\") "
   ]
  },
  {
   "cell_type": "code",
   "execution_count": 19,
   "metadata": {},
   "outputs": [],
   "source": [
    "# Now label encoding the categorical variables\n",
    "label_encoder = LabelEncoder()\n",
    "for col in categorical_col:\n",
    "    data[col] = label_encoder.fit_transform(data[col])\n"
   ]
  },
  {
   "cell_type": "code",
   "execution_count": 20,
   "id": "d285d8a7",
   "metadata": {},
   "outputs": [
    {
     "name": "stdout",
     "output_type": "stream",
     "text": [
      "Education : [0 1 2]\n",
      "City : [0 2 1]\n",
      "Gender : [1 0]\n",
      "EverBenched : [0 1]\n"
     ]
    }
   ],
   "source": [
    "#printing the data with the label encoded value and thrir respective columns  and values\n",
    "for i in categorical_col:\n",
    "    print(f\"{i} : {data[i].unique()}\")\n"
   ]
  },
  {
   "cell_type": "markdown",
   "id": "a34ead76",
   "metadata": {},
   "source": [
    "- calculate the joining year to current year difference"
   ]
  },
  {
   "cell_type": "code",
   "execution_count": 21,
   "id": "55066419",
   "metadata": {},
   "outputs": [
    {
     "data": {
      "text/plain": [
       "0       2017\n",
       "1       2013\n",
       "2       2014\n",
       "3       2016\n",
       "4       2017\n",
       "        ... \n",
       "4648    2013\n",
       "4649    2013\n",
       "4650    2018\n",
       "4651    2012\n",
       "4652    2015\n",
       "Name: JoiningYear, Length: 4653, dtype: int64"
      ]
     },
     "execution_count": 21,
     "metadata": {},
     "output_type": "execute_result"
    }
   ],
   "source": [
    "data['JoiningYear']"
   ]
  },
  {
   "cell_type": "code",
   "execution_count": 22,
   "id": "261a5591",
   "metadata": {},
   "outputs": [],
   "source": [
    "import datetime\n",
    "datetime.datetime.now().year\n",
    "\n",
    "data['JoiningYear'] = datetime.datetime.now().year - data['JoiningYear']"
   ]
  },
  {
   "cell_type": "code",
   "execution_count": 23,
   "id": "2c4ce2b6",
   "metadata": {},
   "outputs": [],
   "source": [
    "features = data[data.columns[:-1]]  # All columns except the last one\n",
    "target = data[data.columns[-1]]  # The last column\n"
   ]
  },
  {
   "cell_type": "code",
   "execution_count": 24,
   "id": "b138744e",
   "metadata": {},
   "outputs": [
    {
     "data": {
      "text/html": [
       "<div>\n",
       "<style scoped>\n",
       "    .dataframe tbody tr th:only-of-type {\n",
       "        vertical-align: middle;\n",
       "    }\n",
       "\n",
       "    .dataframe tbody tr th {\n",
       "        vertical-align: top;\n",
       "    }\n",
       "\n",
       "    .dataframe thead th {\n",
       "        text-align: right;\n",
       "    }\n",
       "</style>\n",
       "<table border=\"1\" class=\"dataframe\">\n",
       "  <thead>\n",
       "    <tr style=\"text-align: right;\">\n",
       "      <th></th>\n",
       "      <th>Education</th>\n",
       "      <th>JoiningYear</th>\n",
       "      <th>City</th>\n",
       "      <th>PaymentTier</th>\n",
       "      <th>Age</th>\n",
       "      <th>Gender</th>\n",
       "      <th>EverBenched</th>\n",
       "      <th>ExperienceInCurrentDomain</th>\n",
       "    </tr>\n",
       "  </thead>\n",
       "  <tbody>\n",
       "    <tr>\n",
       "      <th>0</th>\n",
       "      <td>0</td>\n",
       "      <td>8</td>\n",
       "      <td>0</td>\n",
       "      <td>3</td>\n",
       "      <td>34</td>\n",
       "      <td>1</td>\n",
       "      <td>0</td>\n",
       "      <td>0</td>\n",
       "    </tr>\n",
       "    <tr>\n",
       "      <th>1</th>\n",
       "      <td>0</td>\n",
       "      <td>12</td>\n",
       "      <td>2</td>\n",
       "      <td>1</td>\n",
       "      <td>28</td>\n",
       "      <td>0</td>\n",
       "      <td>0</td>\n",
       "      <td>3</td>\n",
       "    </tr>\n",
       "    <tr>\n",
       "      <th>2</th>\n",
       "      <td>0</td>\n",
       "      <td>11</td>\n",
       "      <td>1</td>\n",
       "      <td>3</td>\n",
       "      <td>38</td>\n",
       "      <td>0</td>\n",
       "      <td>0</td>\n",
       "      <td>2</td>\n",
       "    </tr>\n",
       "    <tr>\n",
       "      <th>3</th>\n",
       "      <td>1</td>\n",
       "      <td>9</td>\n",
       "      <td>0</td>\n",
       "      <td>3</td>\n",
       "      <td>27</td>\n",
       "      <td>1</td>\n",
       "      <td>0</td>\n",
       "      <td>5</td>\n",
       "    </tr>\n",
       "    <tr>\n",
       "      <th>4</th>\n",
       "      <td>1</td>\n",
       "      <td>8</td>\n",
       "      <td>2</td>\n",
       "      <td>3</td>\n",
       "      <td>24</td>\n",
       "      <td>1</td>\n",
       "      <td>1</td>\n",
       "      <td>2</td>\n",
       "    </tr>\n",
       "    <tr>\n",
       "      <th>...</th>\n",
       "      <td>...</td>\n",
       "      <td>...</td>\n",
       "      <td>...</td>\n",
       "      <td>...</td>\n",
       "      <td>...</td>\n",
       "      <td>...</td>\n",
       "      <td>...</td>\n",
       "      <td>...</td>\n",
       "    </tr>\n",
       "    <tr>\n",
       "      <th>4648</th>\n",
       "      <td>0</td>\n",
       "      <td>12</td>\n",
       "      <td>0</td>\n",
       "      <td>3</td>\n",
       "      <td>26</td>\n",
       "      <td>0</td>\n",
       "      <td>0</td>\n",
       "      <td>4</td>\n",
       "    </tr>\n",
       "    <tr>\n",
       "      <th>4649</th>\n",
       "      <td>1</td>\n",
       "      <td>12</td>\n",
       "      <td>2</td>\n",
       "      <td>2</td>\n",
       "      <td>37</td>\n",
       "      <td>1</td>\n",
       "      <td>0</td>\n",
       "      <td>2</td>\n",
       "    </tr>\n",
       "    <tr>\n",
       "      <th>4650</th>\n",
       "      <td>1</td>\n",
       "      <td>7</td>\n",
       "      <td>1</td>\n",
       "      <td>3</td>\n",
       "      <td>27</td>\n",
       "      <td>1</td>\n",
       "      <td>0</td>\n",
       "      <td>5</td>\n",
       "    </tr>\n",
       "    <tr>\n",
       "      <th>4651</th>\n",
       "      <td>0</td>\n",
       "      <td>13</td>\n",
       "      <td>0</td>\n",
       "      <td>3</td>\n",
       "      <td>30</td>\n",
       "      <td>1</td>\n",
       "      <td>1</td>\n",
       "      <td>2</td>\n",
       "    </tr>\n",
       "    <tr>\n",
       "      <th>4652</th>\n",
       "      <td>0</td>\n",
       "      <td>10</td>\n",
       "      <td>0</td>\n",
       "      <td>3</td>\n",
       "      <td>33</td>\n",
       "      <td>1</td>\n",
       "      <td>1</td>\n",
       "      <td>4</td>\n",
       "    </tr>\n",
       "  </tbody>\n",
       "</table>\n",
       "<p>4653 rows × 8 columns</p>\n",
       "</div>"
      ],
      "text/plain": [
       "      Education  JoiningYear  City  PaymentTier  Age  Gender  EverBenched  \\\n",
       "0             0            8     0            3   34       1            0   \n",
       "1             0           12     2            1   28       0            0   \n",
       "2             0           11     1            3   38       0            0   \n",
       "3             1            9     0            3   27       1            0   \n",
       "4             1            8     2            3   24       1            1   \n",
       "...         ...          ...   ...          ...  ...     ...          ...   \n",
       "4648          0           12     0            3   26       0            0   \n",
       "4649          1           12     2            2   37       1            0   \n",
       "4650          1            7     1            3   27       1            0   \n",
       "4651          0           13     0            3   30       1            1   \n",
       "4652          0           10     0            3   33       1            1   \n",
       "\n",
       "      ExperienceInCurrentDomain  \n",
       "0                             0  \n",
       "1                             3  \n",
       "2                             2  \n",
       "3                             5  \n",
       "4                             2  \n",
       "...                         ...  \n",
       "4648                          4  \n",
       "4649                          2  \n",
       "4650                          5  \n",
       "4651                          2  \n",
       "4652                          4  \n",
       "\n",
       "[4653 rows x 8 columns]"
      ]
     },
     "execution_count": 24,
     "metadata": {},
     "output_type": "execute_result"
    }
   ],
   "source": [
    "features"
   ]
  },
  {
   "cell_type": "code",
   "execution_count": 25,
   "id": "ff3789f3",
   "metadata": {},
   "outputs": [
    {
     "data": {
      "text/plain": [
       "0       0\n",
       "1       1\n",
       "2       0\n",
       "3       1\n",
       "4       1\n",
       "       ..\n",
       "4648    0\n",
       "4649    1\n",
       "4650    1\n",
       "4651    0\n",
       "4652    0\n",
       "Name: LeaveOrNot, Length: 4653, dtype: int64"
      ]
     },
     "execution_count": 25,
     "metadata": {},
     "output_type": "execute_result"
    }
   ],
   "source": [
    "target"
   ]
  },
  {
   "cell_type": "code",
   "execution_count": 26,
   "metadata": {},
   "outputs": [
    {
     "name": "stdout",
     "output_type": "stream",
     "text": [
      "<class 'pandas.core.frame.DataFrame'>\n",
      "RangeIndex: 4653 entries, 0 to 4652\n",
      "Data columns (total 9 columns):\n",
      " #   Column                     Non-Null Count  Dtype\n",
      "---  ------                     --------------  -----\n",
      " 0   Education                  4653 non-null   int64\n",
      " 1   JoiningYear                4653 non-null   int64\n",
      " 2   City                       4653 non-null   int64\n",
      " 3   PaymentTier                4653 non-null   int64\n",
      " 4   Age                        4653 non-null   int64\n",
      " 5   Gender                     4653 non-null   int64\n",
      " 6   EverBenched                4653 non-null   int64\n",
      " 7   ExperienceInCurrentDomain  4653 non-null   int64\n",
      " 8   LeaveOrNot                 4653 non-null   int64\n",
      "dtypes: int64(9)\n",
      "memory usage: 327.3 KB\n"
     ]
    }
   ],
   "source": [
    "data.info()"
   ]
  },
  {
   "cell_type": "markdown",
   "id": "146e93f4",
   "metadata": {},
   "source": [
    "# Split the data into train test split"
   ]
  },
  {
   "cell_type": "code",
   "execution_count": 27,
   "id": "a0b5dd4e",
   "metadata": {},
   "outputs": [],
   "source": [
    "X_train,X_test,y_train,y_test= train_test_split(features,target,test_size=0.2,random_state=42)"
   ]
  },
  {
   "cell_type": "code",
   "execution_count": 28,
   "id": "46dc4f70",
   "metadata": {},
   "outputs": [
    {
     "data": {
      "text/plain": [
       "((3722, 8), (931, 8), (3722,), (931,))"
      ]
     },
     "execution_count": 28,
     "metadata": {},
     "output_type": "execute_result"
    }
   ],
   "source": [
    "X_train.shape, X_test.shape, y_train.shape, y_test.shape"
   ]
  },
  {
   "cell_type": "markdown",
   "id": "69f15267",
   "metadata": {},
   "source": [
    "# Standardization on the data \n",
    "using standard scalar"
   ]
  },
  {
   "cell_type": "code",
   "execution_count": 29,
   "id": "8631f4b8",
   "metadata": {},
   "outputs": [],
   "source": [
    "# apply standardization on the data\n",
    "scaler = StandardScaler()\n",
    "X_train =scaler.fit_transform(X_train)\n",
    "X_test = scaler.transform(X_test)"
   ]
  },
  {
   "cell_type": "code",
   "execution_count": null,
   "id": "789888d5",
   "metadata": {},
   "outputs": [],
   "source": []
  },
  {
   "cell_type": "markdown",
   "id": "bd944256",
   "metadata": {},
   "source": [
    "# Importing imp libraries"
   ]
  },
  {
   "cell_type": "code",
   "execution_count": 41,
   "id": "28deccc0",
   "metadata": {},
   "outputs": [],
   "source": [
    "import torch\n",
    "import torch.nn as nn\n",
    "from torch.utils.data import DataLoader, TensorDataset\n",
    "import torch.optim as optim\n",
    "# torch.tensor.randn(5, 3)"
   ]
  },
  {
   "cell_type": "code",
   "execution_count": null,
   "id": "195e6037",
   "metadata": {},
   "outputs": [],
   "source": [
    "# converting the data into tensors\n",
    "# X_train_tensor = torch.tensor(X_train, dtype=torch.float32)\n",
    "# y_train_tensor = torch.tensor(y_train.values, dtype=torch.float32)\n",
    "# X_test_tensor = torch.tensor(X_test, dtype=torch.float32)\n",
    "# y_test_tensor = torch.tensor(y_test.values, dtype=torch.float32)"
   ]
  },
  {
   "cell_type": "code",
   "execution_count": null,
   "id": "f93cd335",
   "metadata": {},
   "outputs": [
    {
     "name": "stdout",
     "output_type": "stream",
     "text": [
      "tensor([[ 1.4086,  1.1097,  0.2522,  ...,  0.8157, -0.3337, -1.8615],\n",
      "        [-0.5104,  1.6457, -0.9420,  ...,  0.8157, -0.3337,  0.0613],\n",
      "        [ 1.4086, -1.0340,  1.4464,  ...,  0.8157, -0.3337, -0.5796],\n",
      "        ...,\n",
      "        [-0.5104, -0.4981, -0.9420,  ..., -1.2260, -0.3337, -1.2206],\n",
      "        [-0.5104,  0.0379, -0.9420,  ...,  0.8157, -0.3337, -1.2206],\n",
      "        [-0.5104,  0.0379, -0.9420,  ...,  0.8157, -0.3337,  1.3432]]) tensor([1., 0., 0.,  ..., 0., 0., 1.])\n"
     ]
    }
   ],
   "source": [
    "# print(X_train_tensor, y_train_tensor)"
   ]
  },
  {
   "cell_type": "markdown",
   "id": "faee5180",
   "metadata": {},
   "source": [
    "# Dataset and dataloader function for dataset preparation for training"
   ]
  },
  {
   "cell_type": "code",
   "execution_count": 34,
   "id": "8d062381",
   "metadata": {},
   "outputs": [],
   "source": [
    "class  dataset():\n",
    "    def __init__(self, features,target):\n",
    "        self.features = torch.tensor(features, dtype=torch.float32)\n",
    "        self.target = torch.tensor(target.values, dtype=torch.float32)\n",
    "    def __len__(self):\n",
    "        return len(self.features)\n",
    "    def __getitem__(self, idx):\n",
    "        return self.features[idx], self.target[idx]\n"
   ]
  },
  {
   "cell_type": "code",
   "execution_count": 35,
   "id": "b9c239a1",
   "metadata": {},
   "outputs": [],
   "source": [
    "train_dataset = dataset(X_train, y_train)\n",
    "test_dataset = dataset(X_test, y_test)"
   ]
  },
  {
   "cell_type": "code",
   "execution_count": 39,
   "id": "b155b4af",
   "metadata": {},
   "outputs": [
    {
     "data": {
      "text/plain": [
       "3722"
      ]
     },
     "execution_count": 39,
     "metadata": {},
     "output_type": "execute_result"
    }
   ],
   "source": [
    "len(train_dataset)"
   ]
  },
  {
   "cell_type": "code",
   "execution_count": 37,
   "id": "cd16c607",
   "metadata": {},
   "outputs": [
    {
     "data": {
      "text/plain": [
       "(tensor([ 1.4086,  1.1097,  0.2522,  0.5394,  0.1175,  0.8157, -0.3337, -1.8615]),\n",
       " tensor(1.))"
      ]
     },
     "execution_count": 37,
     "metadata": {},
     "output_type": "execute_result"
    }
   ],
   "source": [
    "train_dataset[0]"
   ]
  },
  {
   "cell_type": "code",
   "execution_count": 40,
   "id": "56f7acb8",
   "metadata": {},
   "outputs": [],
   "source": [
    "# dataloaders for the datasets\n",
    "train_dataLoader=DataLoader(train_dataset, batch_size=32, shuffle=True)\n",
    "test_dataLoader=DataLoader(test_dataset, batch_size=32, shuffle=False)"
   ]
  },
  {
   "cell_type": "markdown",
   "id": "a9c0f27a",
   "metadata": {},
   "source": [
    "# Pytorch model building "
   ]
  },
  {
   "cell_type": "code",
   "execution_count": 55,
   "id": "7fba2740",
   "metadata": {},
   "outputs": [],
   "source": [
    "class mymodel(nn.Module):\n",
    "    def __init__(self ,input_size):\n",
    "        super().__init__()\n",
    "        self.model=nn.Sequential(\n",
    "            nn.Linear(input_size, 128),\n",
    "            nn.ReLU(),\n",
    "            nn.Linear(128, 32),\n",
    "            nn.ReLU(),\n",
    "            nn.Linear(32, 1)\n",
    "        )\n",
    "    def forward(self, x):\n",
    "        return self.model(x)\n",
    "\n"
   ]
  },
  {
   "cell_type": "markdown",
   "id": "d06902b0",
   "metadata": {},
   "source": [
    "# Hyperparamters \n"
   ]
  },
  {
   "cell_type": "code",
   "execution_count": 56,
   "id": "1ca44ff6",
   "metadata": {},
   "outputs": [],
   "source": [
    "epochs = 100\n",
    "learning_rate=0.01\n"
   ]
  },
  {
   "cell_type": "code",
   "execution_count": 57,
   "id": "13f2b0f6",
   "metadata": {},
   "outputs": [
    {
     "data": {
      "text/plain": [
       "117"
      ]
     },
     "execution_count": 57,
     "metadata": {},
     "output_type": "execute_result"
    }
   ],
   "source": [
    "len(train_dataLoader)"
   ]
  },
  {
   "cell_type": "code",
   "execution_count": 60,
   "id": "210bc224",
   "metadata": {},
   "outputs": [],
   "source": [
    "Model=mymodel(input_size=X_train.shape[1])\n",
    "\n",
    "# loss function and optimizer\n",
    "criterion = nn.MSELoss()\n",
    "optimizer = optim.SGD(Model.parameters(), lr=learning_rate)\n"
   ]
  },
  {
   "cell_type": "code",
   "execution_count": 61,
   "id": "515767f0",
   "metadata": {},
   "outputs": [
    {
     "name": "stderr",
     "output_type": "stream",
     "text": [
      "d:\\Deep_Learning\\DL\\Lib\\site-packages\\torch\\nn\\modules\\loss.py:610: UserWarning: Using a target size (torch.Size([32])) that is different to the input size (torch.Size([32, 1])). This will likely lead to incorrect results due to broadcasting. Please ensure they have the same size.\n",
      "  return F.mse_loss(input, target, reduction=self.reduction)\n",
      "d:\\Deep_Learning\\DL\\Lib\\site-packages\\torch\\nn\\modules\\loss.py:610: UserWarning: Using a target size (torch.Size([10])) that is different to the input size (torch.Size([10, 1])). This will likely lead to incorrect results due to broadcasting. Please ensure they have the same size.\n",
      "  return F.mse_loss(input, target, reduction=self.reduction)\n"
     ]
    },
    {
     "name": "stdout",
     "output_type": "stream",
     "text": [
      "Epoch 1/100, Loss: 0.2346\n",
      "Epoch 2/100, Loss: 0.2282\n",
      "Epoch 3/100, Loss: 0.2274\n",
      "Epoch 4/100, Loss: 0.2272\n",
      "Epoch 5/100, Loss: 0.2269\n",
      "Epoch 6/100, Loss: 0.2271\n",
      "Epoch 7/100, Loss: 0.2266\n",
      "Epoch 8/100, Loss: 0.2265\n",
      "Epoch 9/100, Loss: 0.2261\n",
      "Epoch 10/100, Loss: 0.2268\n",
      "Epoch 11/100, Loss: 0.2268\n",
      "Epoch 12/100, Loss: 0.2262\n",
      "Epoch 13/100, Loss: 0.2267\n",
      "Epoch 14/100, Loss: 0.2263\n",
      "Epoch 15/100, Loss: 0.2265\n",
      "Epoch 16/100, Loss: 0.2262\n",
      "Epoch 17/100, Loss: 0.2262\n",
      "Epoch 18/100, Loss: 0.2261\n",
      "Epoch 19/100, Loss: 0.2258\n",
      "Epoch 20/100, Loss: 0.2263\n",
      "Epoch 21/100, Loss: 0.2258\n",
      "Epoch 22/100, Loss: 0.2255\n",
      "Epoch 23/100, Loss: 0.2261\n",
      "Epoch 24/100, Loss: 0.2264\n",
      "Epoch 25/100, Loss: 0.2263\n",
      "Epoch 26/100, Loss: 0.2254\n",
      "Epoch 27/100, Loss: 0.2262\n",
      "Epoch 28/100, Loss: 0.2260\n",
      "Epoch 29/100, Loss: 0.2260\n",
      "Epoch 30/100, Loss: 0.2257\n",
      "Epoch 31/100, Loss: 0.2261\n",
      "Epoch 32/100, Loss: 0.2256\n",
      "Epoch 33/100, Loss: 0.2259\n",
      "Epoch 34/100, Loss: 0.2258\n",
      "Epoch 35/100, Loss: 0.2262\n",
      "Epoch 36/100, Loss: 0.2261\n",
      "Epoch 37/100, Loss: 0.2259\n",
      "Epoch 38/100, Loss: 0.2257\n",
      "Epoch 39/100, Loss: 0.2261\n",
      "Epoch 40/100, Loss: 0.2262\n",
      "Epoch 41/100, Loss: 0.2253\n",
      "Epoch 42/100, Loss: 0.2262\n",
      "Epoch 43/100, Loss: 0.2258\n",
      "Epoch 44/100, Loss: 0.2256\n",
      "Epoch 45/100, Loss: 0.2255\n",
      "Epoch 46/100, Loss: 0.2256\n",
      "Epoch 47/100, Loss: 0.2260\n",
      "Epoch 48/100, Loss: 0.2257\n",
      "Epoch 49/100, Loss: 0.2260\n",
      "Epoch 50/100, Loss: 0.2257\n",
      "Epoch 51/100, Loss: 0.2261\n",
      "Epoch 52/100, Loss: 0.2255\n",
      "Epoch 53/100, Loss: 0.2260\n",
      "Epoch 54/100, Loss: 0.2258\n",
      "Epoch 55/100, Loss: 0.2262\n",
      "Epoch 56/100, Loss: 0.2262\n",
      "Epoch 57/100, Loss: 0.2257\n",
      "Epoch 58/100, Loss: 0.2254\n",
      "Epoch 59/100, Loss: 0.2259\n",
      "Epoch 60/100, Loss: 0.2260\n",
      "Epoch 61/100, Loss: 0.2258\n",
      "Epoch 62/100, Loss: 0.2258\n",
      "Epoch 63/100, Loss: 0.2265\n",
      "Epoch 64/100, Loss: 0.2261\n",
      "Epoch 65/100, Loss: 0.2259\n",
      "Epoch 66/100, Loss: 0.2259\n",
      "Epoch 67/100, Loss: 0.2260\n",
      "Epoch 68/100, Loss: 0.2261\n",
      "Epoch 69/100, Loss: 0.2255\n",
      "Epoch 70/100, Loss: 0.2263\n",
      "Epoch 71/100, Loss: 0.2258\n",
      "Epoch 72/100, Loss: 0.2255\n",
      "Epoch 73/100, Loss: 0.2259\n",
      "Epoch 74/100, Loss: 0.2259\n",
      "Epoch 75/100, Loss: 0.2255\n",
      "Epoch 76/100, Loss: 0.2261\n",
      "Epoch 77/100, Loss: 0.2264\n",
      "Epoch 78/100, Loss: 0.2263\n",
      "Epoch 79/100, Loss: 0.2263\n",
      "Epoch 80/100, Loss: 0.2262\n",
      "Epoch 81/100, Loss: 0.2261\n",
      "Epoch 82/100, Loss: 0.2257\n",
      "Epoch 83/100, Loss: 0.2259\n",
      "Epoch 84/100, Loss: 0.2258\n",
      "Epoch 85/100, Loss: 0.2263\n",
      "Epoch 86/100, Loss: 0.2252\n",
      "Epoch 87/100, Loss: 0.2259\n",
      "Epoch 88/100, Loss: 0.2260\n",
      "Epoch 89/100, Loss: 0.2263\n",
      "Epoch 90/100, Loss: 0.2262\n",
      "Epoch 91/100, Loss: 0.2258\n",
      "Epoch 92/100, Loss: 0.2258\n",
      "Epoch 93/100, Loss: 0.2256\n",
      "Epoch 94/100, Loss: 0.2256\n",
      "Epoch 95/100, Loss: 0.2260\n",
      "Epoch 96/100, Loss: 0.2259\n",
      "Epoch 97/100, Loss: 0.2259\n",
      "Epoch 98/100, Loss: 0.2257\n",
      "Epoch 99/100, Loss: 0.2251\n",
      "Epoch 100/100, Loss: 0.2258\n"
     ]
    }
   ],
   "source": [
    "# training loop \n",
    "\n",
    "losses = []\n",
    "\n",
    "for epoch in range(epochs):\n",
    "    total_loss = 0\n",
    "    for batch_features, batch_target in train_dataLoader:\n",
    "        output= Model(batch_features)\n",
    "        loss = criterion(output, batch_target)\n",
    "\n",
    "        optimizer.zero_grad()\n",
    "        loss.backward()\n",
    "        optimizer.step()\n",
    "        total_loss += loss.item()\n",
    "    avg_loss = total_loss / len(train_dataLoader)\n",
    "    losses.append(avg_loss) \n",
    "    print(f\"Epoch {epoch+1}/{epochs}, Loss: {avg_loss:.4f}\")\n",
    "\n",
    "\n",
    "    \n"
   ]
  },
  {
   "cell_type": "code",
   "execution_count": 62,
   "id": "a1938389",
   "metadata": {},
   "outputs": [
    {
     "data": {
      "text/plain": [
       "8"
      ]
     },
     "execution_count": 62,
     "metadata": {},
     "output_type": "execute_result"
    }
   ],
   "source": [
    "X_train.shape[1]"
   ]
  },
  {
   "cell_type": "code",
   "execution_count": 63,
   "id": "a8efffb2",
   "metadata": {},
   "outputs": [
    {
     "data": {
      "text/plain": [
       "==========================================================================================\n",
       "Layer (type:depth-idx)                   Output Shape              Param #\n",
       "==========================================================================================\n",
       "mymodel                                  [8, 1]                    --\n",
       "├─Sequential: 1-1                        [8, 1]                    --\n",
       "│    └─Linear: 2-1                       [8, 128]                  1,152\n",
       "│    └─ReLU: 2-2                         [8, 128]                  --\n",
       "│    └─Linear: 2-3                       [8, 32]                   4,128\n",
       "│    └─ReLU: 2-4                         [8, 32]                   --\n",
       "│    └─Linear: 2-5                       [8, 1]                    33\n",
       "==========================================================================================\n",
       "Total params: 5,313\n",
       "Trainable params: 5,313\n",
       "Non-trainable params: 0\n",
       "Total mult-adds (Units.MEGABYTES): 0.04\n",
       "==========================================================================================\n",
       "Input size (MB): 0.00\n",
       "Forward/backward pass size (MB): 0.01\n",
       "Params size (MB): 0.02\n",
       "Estimated Total Size (MB): 0.03\n",
       "=========================================================================================="
      ]
     },
     "execution_count": 63,
     "metadata": {},
     "output_type": "execute_result"
    }
   ],
   "source": [
    "# structure of the model\n",
    "from torchinfo import summary\n",
    "summary(Model, input_size=(8, X_train.shape[1]))"
   ]
  },
  {
   "cell_type": "code",
   "execution_count": 64,
   "id": "b572d412",
   "metadata": {},
   "outputs": [
    {
     "data": {
      "text/plain": [
       "mymodel(\n",
       "  (model): Sequential(\n",
       "    (0): Linear(in_features=8, out_features=128, bias=True)\n",
       "    (1): ReLU()\n",
       "    (2): Linear(in_features=128, out_features=32, bias=True)\n",
       "    (3): ReLU()\n",
       "    (4): Linear(in_features=32, out_features=1, bias=True)\n",
       "  )\n",
       ")"
      ]
     },
     "execution_count": 64,
     "metadata": {},
     "output_type": "execute_result"
    }
   ],
   "source": [
    "# model evaluation\n",
    "Model.eval()"
   ]
  },
  {
   "cell_type": "code",
   "execution_count": 65,
   "id": "1af8ca28",
   "metadata": {},
   "outputs": [
    {
     "name": "stdout",
     "output_type": "stream",
     "text": [
      "Test Loss: 0.2258\n"
     ]
    },
    {
     "name": "stderr",
     "output_type": "stream",
     "text": [
      "d:\\Deep_Learning\\DL\\Lib\\site-packages\\torch\\nn\\modules\\loss.py:610: UserWarning: Using a target size (torch.Size([3])) that is different to the input size (torch.Size([3, 1])). This will likely lead to incorrect results due to broadcasting. Please ensure they have the same size.\n",
      "  return F.mse_loss(input, target, reduction=self.reduction)\n"
     ]
    }
   ],
   "source": [
    "# model testing\n",
    "with torch.no_grad():\n",
    "    test_loss = 0\n",
    "    for batch_features, batch_target in test_dataLoader:\n",
    "        output = Model(batch_features)\n",
    "        loss = criterion(output, batch_target)\n",
    "        test_loss += loss.item()\n",
    "    avg_test_loss = test_loss / len(test_dataLoader)\n",
    "    print(f\"Test Loss: {avg_test_loss:.4f}\")"
   ]
  },
  {
   "cell_type": "code",
   "execution_count": 66,
   "id": "d4aca540",
   "metadata": {},
   "outputs": [
    {
     "name": "stdout",
     "output_type": "stream",
     "text": [
      "Accuracy of the Model is - 65.52 % \n"
     ]
    }
   ],
   "source": [
    "# evaluation code\n",
    "total = 0\n",
    "correct = 0\n",
    "\n",
    "with torch.no_grad():\n",
    "\n",
    "  for batch_features, batch_labels in test_dataLoader:\n",
    "\n",
    "    outputs = Model(batch_features)\n",
    "\n",
    "    _, predicted = torch.max(outputs, 1)\n",
    "\n",
    "    total = total + batch_labels.shape[0]\n",
    "\n",
    "    correct = correct + (predicted == batch_labels).sum().item()\n",
    "\n",
    "print(f\"Accuracy of the Model is - {correct/total*100:.2f} % \")\n"
   ]
  }
 ],
 "metadata": {
  "kernelspec": {
   "display_name": "DL",
   "language": "python",
   "name": "python3"
  },
  "language_info": {
   "codemirror_mode": {
    "name": "ipython",
    "version": 3
   },
   "file_extension": ".py",
   "mimetype": "text/x-python",
   "name": "python",
   "nbconvert_exporter": "python",
   "pygments_lexer": "ipython3",
   "version": "3.11.1"
  }
 },
 "nbformat": 4,
 "nbformat_minor": 5
}
