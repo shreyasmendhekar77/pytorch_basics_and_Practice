{
 "cells": [
  {
   "cell_type": "markdown",
   "id": "37a9418a",
   "metadata": {},
   "source": [
    "# Simple methods to create tensors\n"
   ]
  },
  {
   "cell_type": "code",
   "execution_count": 1,
   "id": "ba79f1d8",
   "metadata": {},
   "outputs": [],
   "source": [
    "import torch as t"
   ]
  },
  {
   "cell_type": "code",
   "execution_count": 2,
   "metadata": {},
   "outputs": [
    {
     "data": {
      "text/plain": [
       "tensor([[0., 0.],\n",
       "        [0., 0.]])"
      ]
     },
     "execution_count": 2,
     "metadata": {},
     "output_type": "execute_result"
    }
   ],
   "source": [
    "t.empty(2,2)"
   ]
  },
  {
   "cell_type": "code",
   "execution_count": 4,
   "metadata": {},
   "outputs": [
    {
     "data": {
      "text/plain": [
       "tensor([[1., 1., 1., 1.],\n",
       "        [1., 1., 1., 1.]])"
      ]
     },
     "execution_count": 4,
     "metadata": {},
     "output_type": "execute_result"
    }
   ],
   "source": [
    "t.ones(2,4)"
   ]
  },
  {
   "cell_type": "code",
   "execution_count": 5,
   "metadata": {},
   "outputs": [
    {
     "data": {
      "text/plain": [
       "tensor([[0., 0., 0.],\n",
       "        [0., 0., 0.]])"
      ]
     },
     "execution_count": 5,
     "metadata": {},
     "output_type": "execute_result"
    }
   ],
   "source": [
    "t.zeros(2,3)"
   ]
  },
  {
   "cell_type": "code",
   "execution_count": null,
   "metadata": {},
   "outputs": [
    {
     "data": {
      "text/plain": [
       "tensor([[0.1516, 0.4797, 0.4367],\n",
       "        [0.2781, 0.6275, 0.1836]])"
      ]
     },
     "execution_count": 6,
     "metadata": {},
     "output_type": "execute_result"
    }
   ],
   "source": [
    "\n",
    "t.rand(2,3)"
   ]
  },
  {
   "cell_type": "code",
   "execution_count": 7,
   "metadata": {},
   "outputs": [
    {
     "data": {
      "text/plain": [
       "torch.Tensor"
      ]
     },
     "execution_count": 7,
     "metadata": {},
     "output_type": "execute_result"
    }
   ],
   "source": [
    "a=t.tensor([[1,2,3],[4,5,6]])\n",
    "type(a)"
   ]
  },
  {
   "cell_type": "code",
   "execution_count": 10,
   "id": "b0a3b00f",
   "metadata": {},
   "outputs": [
    {
     "data": {
      "text/plain": [
       "tensor([[0.2627, 0.0428, 0.2080],\n",
       "        [0.1180, 0.1217, 0.7356]])"
      ]
     },
     "execution_count": 10,
     "metadata": {},
     "output_type": "execute_result"
    }
   ],
   "source": [
    "t.rand(2,3)"
   ]
  },
  {
   "cell_type": "code",
   "execution_count": 12,
   "metadata": {},
   "outputs": [
    {
     "data": {
      "text/plain": [
       "tensor([[0.1117, 0.8158, 0.2626],\n",
       "        [0.4839, 0.6765, 0.7539]])"
      ]
     },
     "execution_count": 12,
     "metadata": {},
     "output_type": "execute_result"
    }
   ],
   "source": [
    "#use of seed\n",
    "# for reproducibility of same random numbers\n",
    "t.manual_seed(100)\n",
    "t.rand(2,3) \n"
   ]
  },
  {
   "cell_type": "markdown",
   "id": "55e78c59",
   "metadata": {},
   "source": [
    "same result for the seed 100"
   ]
  },
  {
   "cell_type": "code",
   "execution_count": 13,
   "metadata": {},
   "outputs": [
    {
     "data": {
      "text/plain": [
       "tensor([[0.1117, 0.8158, 0.2626],\n",
       "        [0.4839, 0.6765, 0.7539]])"
      ]
     },
     "execution_count": 13,
     "metadata": {},
     "output_type": "execute_result"
    }
   ],
   "source": [
    "t.manual_seed(100)\n",
    "t.rand(2,3) "
   ]
  },
  {
   "cell_type": "code",
   "execution_count": 17,
   "id": "c1b7a0fe",
   "metadata": {},
   "outputs": [
    {
     "name": "stdout",
     "output_type": "stream",
     "text": [
      "tensor([1, 4, 7])\n",
      "tensor([ 1.0000,  3.2500,  5.5000,  7.7500, 10.0000])\n",
      "tensor([[1., 0., 0., 0.],\n",
      "        [0., 1., 0., 0.],\n",
      "        [0., 0., 1., 0.],\n",
      "        [0., 0., 0., 1.]])\n",
      "tensor([[2, 2, 2],\n",
      "        [2, 2, 2]])\n"
     ]
    }
   ],
   "source": [
    "# different ways to create tensors\n",
    "\n",
    "#arange \n",
    "print(t.arange(1,10,3))\n",
    "\n",
    "#linspace\n",
    "print(t.linspace(1,10,5))\n",
    "\n",
    "#eye identity matrix\n",
    "print(t.eye(4))\n",
    "\n",
    "\n",
    "#full\n",
    "print(t.full((2,3),2))\n"
   ]
  },
  {
   "cell_type": "markdown",
   "id": "b69d8f56",
   "metadata": {},
   "source": [
    "# Tensor shapes\n"
   ]
  },
  {
   "cell_type": "code",
   "execution_count": 18,
   "id": "116b1e40",
   "metadata": {},
   "outputs": [
    {
     "name": "stdout",
     "output_type": "stream",
     "text": [
      "torch.Size([2, 3])\n"
     ]
    }
   ],
   "source": [
    "x=t.tensor([[1,2,3],[4,5,6]])\n",
    "#shape of tensor\n",
    "print(x.shape)"
   ]
  },
  {
   "cell_type": "code",
   "execution_count": 19,
   "id": "12815538",
   "metadata": {},
   "outputs": [
    {
     "data": {
      "text/plain": [
       "tensor([[5820729462384,             0,             0],\n",
       "        [            0,             0,             0]])"
      ]
     },
     "execution_count": 19,
     "metadata": {},
     "output_type": "execute_result"
    }
   ],
   "source": [
    "t.empty_like(x)"
   ]
  },
  {
   "cell_type": "code",
   "execution_count": 26,
   "id": "7598d3c0",
   "metadata": {},
   "outputs": [
    {
     "data": {
      "text/plain": [
       "tensor([[1, 1, 1],\n",
       "        [1, 1, 1]])"
      ]
     },
     "execution_count": 26,
     "metadata": {},
     "output_type": "execute_result"
    }
   ],
   "source": [
    "t.ones_like(x)"
   ]
  },
  {
   "cell_type": "code",
   "execution_count": 28,
   "id": "e7080778",
   "metadata": {},
   "outputs": [
    {
     "data": {
      "text/plain": [
       "tensor([[0.4440, 0.9478, 0.7445],\n",
       "        [0.4892, 0.2426, 0.7003]])"
      ]
     },
     "execution_count": 28,
     "metadata": {},
     "output_type": "execute_result"
    }
   ],
   "source": [
    "t.rand_like(x,dtype=t.float)"
   ]
  },
  {
   "cell_type": "code",
   "execution_count": 29,
   "id": "0035121f",
   "metadata": {},
   "outputs": [
    {
     "data": {
      "text/plain": [
       "torch.int64"
      ]
     },
     "execution_count": 29,
     "metadata": {},
     "output_type": "execute_result"
    }
   ],
   "source": [
    "x.dtype"
   ]
  },
  {
   "cell_type": "markdown",
   "id": "138334ea",
   "metadata": {},
   "source": [
    "# Mathematical Operation on tensors"
   ]
  },
  {
   "cell_type": "markdown",
   "id": "7d01c5ca",
   "metadata": {},
   "source": [
    "1.Scalar Operations"
   ]
  },
  {
   "cell_type": "code",
   "execution_count": 30,
   "id": "c0e20a65",
   "metadata": {},
   "outputs": [],
   "source": [
    "x=t.tensor([[1,2,3],[4,5,6]])"
   ]
  },
  {
   "cell_type": "code",
   "execution_count": 38,
   "id": "14b16cb1",
   "metadata": {},
   "outputs": [
    {
     "name": "stdout",
     "output_type": "stream",
     "text": [
      "addition of scalar  on x is\n",
      "  tensor([[3, 4, 5],\n",
      "        [6, 7, 8]])\n",
      "substraction of scalar  on x is\n",
      "  tensor([[-1,  0,  1],\n",
      "        [ 2,  3,  4]])\n",
      "multiplication of scalar on x is\n",
      "  tensor([[10, 20, 30],\n",
      "        [40, 50, 60]])\n",
      "division of scalar  on x is \n",
      " tensor([[0.2000, 0.4000, 0.6000],\n",
      "        [0.8000, 1.0000, 1.2000]])\n",
      "modulus of scalar  on x is \n",
      " tensor([[1, 2, 0],\n",
      "        [1, 2, 0]])\n",
      "power of scalar  on x is\n",
      "  tensor([[  1,   8,  27],\n",
      "        [ 64, 125, 216]])\n"
     ]
    }
   ],
   "source": [
    "#addition\n",
    "print(\"addition of scalar  on x is\\n \",x+2)\n",
    "\n",
    "#substraction\n",
    "print(\"substraction of scalar  on x is\\n \",x-2)\n",
    "\n",
    "#multiplication\n",
    "print(\"multiplication of scalar on x is\\n \",x*10)\n",
    "\n",
    "#division\n",
    "print(\"division of scalar  on x is \\n\",x/5)\n",
    "\n",
    "#mod\n",
    "print(\"modulus of scalar  on x is \\n\",x%3)\n",
    "\n",
    "#power\n",
    "print(\"power of scalar  on x is\\n \",x**3)    "
   ]
  },
  {
   "cell_type": "code",
   "execution_count": 40,
   "id": "f09cb4a0",
   "metadata": {},
   "outputs": [
    {
     "name": "stdout",
     "output_type": "stream",
     "text": [
      "addition of two tensors is\n",
      "  tensor([[ 2,  4,  6],\n",
      "        [ 8, 10, 12]])\n",
      "substraction of two tensors is\n",
      "  tensor([[0, 0, 0],\n",
      "        [0, 0, 0]])\n",
      "multiplication of two tensors is\n",
      "  tensor([[ 1,  4,  9],\n",
      "        [16, 25, 36]])\n",
      "division of two tensors is\n",
      "  tensor([[1., 1., 1.],\n",
      "        [1., 1., 1.]])\n",
      "modulus of two tensors is\n",
      "  tensor([[0, 0, 0],\n",
      "        [0, 0, 0]])\n",
      "power of two tensors is\n",
      "  tensor([[    1,     4,    27],\n",
      "        [  256,  3125, 46656]])\n"
     ]
    }
   ],
   "source": [
    "# matematical operations on 2 tensors\n",
    "y=t.tensor([[1,2,3],[4,5,6]])\n",
    "\n",
    "#addition\n",
    "print(\"addition of two tensors is\\n \",x+y)\n",
    "\n",
    "#substraction\n",
    "print(\"substraction of two tensors is\\n \",x-y)\n",
    "\n",
    "#multiplication\n",
    "print(\"multiplication of two tensors is\\n \",x*y)\n",
    "\n",
    "#division\n",
    "print(\"division of two tensors is\\n \",x/y)\n",
    "\n",
    "#mod\n",
    "print(\"modulus of two tensors is\\n \",x%y)\n",
    "\n",
    "#power\n",
    "print(\"power of two tensors is\\n \",x**y)\n",
    "\n",
    "\n",
    "\n"
   ]
  },
  {
   "cell_type": "code",
   "execution_count": 43,
   "id": "7800bc4b",
   "metadata": {},
   "outputs": [
    {
     "data": {
      "text/plain": [
       "tensor([[1., 1., 1.],\n",
       "        [1., 1., 1.],\n",
       "        [1., 1., 1.]])"
      ]
     },
     "execution_count": 43,
     "metadata": {},
     "output_type": "execute_result"
    }
   ],
   "source": [
    "x=t.rand(3,3)\n",
    "\n",
    "# abs\n",
    "t.abs(x)\n",
    "\n",
    "# ceil\n",
    "t.ceil(x)\n",
    "\n",
    "# floor\n",
    "# t.floor(x)\n",
    "\n"
   ]
  },
  {
   "cell_type": "markdown",
   "id": "1d93fb67",
   "metadata": {},
   "source": [
    "3. Reduction Operations"
   ]
  },
  {
   "cell_type": "code",
   "execution_count": 48,
   "id": "879d84d4",
   "metadata": {},
   "outputs": [
    {
     "data": {
      "text/plain": [
       "tensor([[4., 1., 3.],\n",
       "        [7., 2., 2.],\n",
       "        [8., 4., 1.]])"
      ]
     },
     "execution_count": 48,
     "metadata": {},
     "output_type": "execute_result"
    }
   ],
   "source": [
    "e=t.randint(size=(3,3),low=1,high=10,dtype=t.float)\n",
    "e"
   ]
  },
  {
   "cell_type": "code",
   "execution_count": 49,
   "id": "02a6f69e",
   "metadata": {},
   "outputs": [
    {
     "data": {
      "text/plain": [
       "tensor([ 8., 11., 13.])"
      ]
     },
     "execution_count": 49,
     "metadata": {},
     "output_type": "execute_result"
    }
   ],
   "source": [
    "t.sum(e)\n",
    "\n",
    "#sum along dimension\n",
    "t.sum(e,dim=0)\n",
    "\n",
    "t.sum(e,dim=1)"
   ]
  },
  {
   "cell_type": "code",
   "execution_count": 50,
   "id": "47746bad",
   "metadata": {},
   "outputs": [
    {
     "data": {
      "text/plain": [
       "tensor(3.5556)"
      ]
     },
     "execution_count": 50,
     "metadata": {},
     "output_type": "execute_result"
    }
   ],
   "source": [
    "t.mean(e)"
   ]
  },
  {
   "cell_type": "code",
   "execution_count": 52,
   "id": "75d01c18",
   "metadata": {},
   "outputs": [
    {
     "data": {
      "text/plain": [
       "tensor(10752.)"
      ]
     },
     "execution_count": 52,
     "metadata": {},
     "output_type": "execute_result"
    }
   ],
   "source": [
    "t.prod(e)"
   ]
  },
  {
   "cell_type": "code",
   "execution_count": 53,
   "id": "ef4ad164",
   "metadata": {},
   "outputs": [
    {
     "name": "stdout",
     "output_type": "stream",
     "text": [
      "Variance of e: tensor(6.2778)\n",
      "Standard deviation of e: tensor(2.5055)\n",
      "Index of minimum value in e: tensor(1)\n",
      "Index of maximum value in e: tensor(6)\n"
     ]
    }
   ],
   "source": [
    "print(\"Variance of e:\", t.var(e))\n",
    "print(\"Standard deviation of e:\", t.std(e))\n",
    "print(\"Index of minimum value in e:\", t.argmin(e))\n",
    "print(\"Index of maximum value in e:\", t.argmax(e))"
   ]
  },
  {
   "cell_type": "markdown",
   "id": "09e50205",
   "metadata": {},
   "source": [
    "# Matrix operation on tensors\n"
   ]
  },
  {
   "cell_type": "code",
   "execution_count": 54,
   "id": "2ec58c7c",
   "metadata": {},
   "outputs": [
    {
     "name": "stdout",
     "output_type": "stream",
     "text": [
      "Matrix multiplication of matrix1 and matrix2 is\n",
      " tensor([[3., 3.],\n",
      "        [3., 3.]])\n"
     ]
    }
   ],
   "source": [
    "matrix1=t.ones(2,3)\n",
    "matrix2=t.ones(3,2)\n",
    "\n",
    "# Matrix multiplication\n",
    "print(\"Matrix multiplication of matrix1 and matrix2 is\\n\", t.matmul(matrix1, matrix2))"
   ]
  },
  {
   "cell_type": "code",
   "execution_count": 55,
   "id": "70b0f1ae",
   "metadata": {},
   "outputs": [
    {
     "name": "stdout",
     "output_type": "stream",
     "text": [
      "Dot product of matrix1 and matrix2 is\n",
      " tensor(6.)\n"
     ]
    }
   ],
   "source": [
    "# dot product\n",
    "print(\"Dot product of matrix1 and matrix2 is\\n\", t.dot(matrix1.flatten(), matrix2.flatten()))"
   ]
  },
  {
   "cell_type": "code",
   "execution_count": 56,
   "id": "f509ed1c",
   "metadata": {},
   "outputs": [
    {
     "name": "stdout",
     "output_type": "stream",
     "text": [
      "Transpose of matrix1 is\n",
      " tensor([[1., 1.],\n",
      "        [1., 1.],\n",
      "        [1., 1.]])\n"
     ]
    }
   ],
   "source": [
    "#transpose\n",
    "print(\"Transpose of matrix1 is\\n\", t.transpose(matrix1,0,1))"
   ]
  },
  {
   "cell_type": "code",
   "execution_count": 60,
   "id": "e4a5b8bc",
   "metadata": {},
   "outputs": [
    {
     "name": "stdout",
     "output_type": "stream",
     "text": [
      "determinant of matrix1 is\n",
      " tensor(0.)\n"
     ]
    }
   ],
   "source": [
    "# determinant\n",
    "matrix1 = t.ones(2, 2)\n",
    "print(\"determinant of matrix1 is\\n\", t.det(matrix1))"
   ]
  },
  {
   "cell_type": "code",
   "execution_count": null,
   "id": "582b2a0f",
   "metadata": {},
   "outputs": [],
   "source": []
  },
  {
   "cell_type": "markdown",
   "id": "8870ab11",
   "metadata": {},
   "source": [
    "# Special Functions"
   ]
  },
  {
   "cell_type": "code",
   "execution_count": 62,
   "id": "d83964a8",
   "metadata": {},
   "outputs": [],
   "source": [
    "k=t.rand(3,3)"
   ]
  },
  {
   "cell_type": "code",
   "execution_count": 63,
   "id": "f15ff350",
   "metadata": {},
   "outputs": [
    {
     "name": "stdout",
     "output_type": "stream",
     "text": [
      "Natural logarithm of k is\n",
      " tensor([[-3.0935, -0.0204, -0.5892],\n",
      "        [-0.3757, -0.7092, -2.5929],\n",
      "        [-0.0403, -1.1175, -4.5800]])\n"
     ]
    }
   ],
   "source": [
    "#log\n",
    "print(\"Natural logarithm of k is\\n\", t.log(k))"
   ]
  },
  {
   "cell_type": "code",
   "execution_count": 64,
   "id": "2d957aab",
   "metadata": {},
   "outputs": [
    {
     "name": "stdout",
     "output_type": "stream",
     "text": [
      "Exponential of k is\n",
      " tensor([[1.0464, 2.6638, 1.7416],\n",
      "        [1.9873, 1.6356, 1.0777],\n",
      "        [2.6130, 1.3869, 1.0103]])\n"
     ]
    }
   ],
   "source": [
    "# exponential\n",
    "print(\"Exponential of k is\\n\", t.exp(k))"
   ]
  },
  {
   "cell_type": "code",
   "execution_count": 65,
   "id": "8b072c60",
   "metadata": {},
   "outputs": [
    {
     "name": "stdout",
     "output_type": "stream",
     "text": [
      "Softmax of k is\n",
      " tensor([[0.1853, 0.4685, 0.4548],\n",
      "        [0.3519, 0.2876, 0.2814],\n",
      "        [0.4627, 0.2439, 0.2638]])\n"
     ]
    }
   ],
   "source": [
    "#softmax\n",
    "print(\"Softmax of k is\\n\", t.softmax(k, dim=0))"
   ]
  },
  {
   "cell_type": "code",
   "execution_count": 67,
   "id": "e396e43b",
   "metadata": {},
   "outputs": [
    {
     "name": "stdout",
     "output_type": "stream",
     "text": [
      "ReLU of k is\n",
      " tensor([[0.0453, 0.9798, 0.5548],\n",
      "        [0.6868, 0.4920, 0.0748],\n",
      "        [0.9605, 0.3271, 0.0103]])\n"
     ]
    }
   ],
   "source": [
    "# relu\n",
    "print(\"ReLU of k is\\n\", t.relu(k))"
   ]
  },
  {
   "cell_type": "code",
   "execution_count": null,
   "id": "d2db35e9",
   "metadata": {},
   "outputs": [],
   "source": []
  },
  {
   "cell_type": "markdown",
   "id": "e21856af",
   "metadata": {},
   "source": [
    "# Inplace operations"
   ]
  },
  {
   "cell_type": "code",
   "execution_count": 68,
   "id": "e0ec74f9",
   "metadata": {},
   "outputs": [],
   "source": [
    "m=t.rand(3,3)\n",
    "n=t.rand(3,3)"
   ]
  },
  {
   "cell_type": "code",
   "execution_count": 69,
   "id": "21078b9e",
   "metadata": {},
   "outputs": [
    {
     "name": "stdout",
     "output_type": "stream",
     "text": [
      "In-place addition of m and n is\n",
      " tensor([[1.0013, 0.4635, 0.5335],\n",
      "        [1.1034, 1.6854, 0.3791],\n",
      "        [0.8350, 0.8259, 1.3169]])\n"
     ]
    }
   ],
   "source": [
    "m.add_(n)  # In-place addition\n",
    "print(\"In-place addition of m and n is\\n\", m)"
   ]
  },
  {
   "cell_type": "code",
   "execution_count": 70,
   "id": "f9d8ee0c",
   "metadata": {},
   "outputs": [
    {
     "name": "stdout",
     "output_type": "stream",
     "text": [
      "In-place ReLU of m is\n",
      " tensor([[1.0013, 0.4635, 0.5335],\n",
      "        [1.1034, 1.6854, 0.3791],\n",
      "        [0.8350, 0.8259, 1.3169]])\n"
     ]
    }
   ],
   "source": [
    "m.relu_()  # In-place ReLU\n",
    "print(\"In-place ReLU of m is\\n\", m)"
   ]
  },
  {
   "cell_type": "code",
   "execution_count": null,
   "id": "79700aa2",
   "metadata": {},
   "outputs": [],
   "source": []
  },
  {
   "cell_type": "markdown",
   "id": "a7b65c66",
   "metadata": {},
   "source": [
    "# copy a tensor"
   ]
  },
  {
   "cell_type": "code",
   "execution_count": 77,
   "id": "7ffdca45",
   "metadata": {},
   "outputs": [
    {
     "data": {
      "text/plain": [
       "tensor([[0.8993, 0.2732, 0.3397],\n",
       "        [0.1879, 0.5534, 0.2682],\n",
       "        [0.9556, 0.9761, 0.5934]])"
      ]
     },
     "execution_count": 77,
     "metadata": {},
     "output_type": "execute_result"
    }
   ],
   "source": [
    "a= t.rand(3,3)\n",
    "a"
   ]
  },
  {
   "cell_type": "code",
   "execution_count": 78,
   "metadata": {},
   "outputs": [],
   "source": [
    "b=a"
   ]
  },
  {
   "cell_type": "code",
   "execution_count": 79,
   "id": "c78b0caf",
   "metadata": {},
   "outputs": [
    {
     "data": {
      "text/plain": [
       "tensor([[0.8993, 0.2732, 0.3397],\n",
       "        [0.1879, 0.5534, 0.2682],\n",
       "        [0.9556, 0.9761, 0.5934]])"
      ]
     },
     "execution_count": 79,
     "metadata": {},
     "output_type": "execute_result"
    }
   ],
   "source": [
    "b"
   ]
  },
  {
   "cell_type": "markdown",
   "id": "4f3321e0",
   "metadata": {},
   "source": [
    "id of tensor depict the logical address of that tensor in the memory "
   ]
  },
  {
   "cell_type": "code",
   "execution_count": 81,
   "id": "73c3fc89",
   "metadata": {},
   "outputs": [
    {
     "name": "stdout",
     "output_type": "stream",
     "text": [
      "id of a is  1667116812240\n",
      "id of b is  1667116812240\n",
      "a and b are the same object\n"
     ]
    }
   ],
   "source": [
    "print(\"id of a is \",id(a))\n",
    "print(\"id of b is \",id(b))\n",
    "\n",
    "if id(a) == id(b):\n",
    "    print(\"a and b are the same object\")"
   ]
  },
  {
   "cell_type": "code",
   "execution_count": 82,
   "id": "bc2b37bd",
   "metadata": {},
   "outputs": [
    {
     "name": "stdout",
     "output_type": "stream",
     "text": [
      "id of a after cloning is  1667116812240\n",
      "id of b after cloning is  1667107301008\n"
     ]
    }
   ],
   "source": [
    "# copying using clone\n",
    "b = a.clone()\n",
    "print(\"id of a after cloning is \", id(a))\n",
    "print(\"id of b after cloning is \", id(b))   \n",
    "\n"
   ]
  },
  {
   "cell_type": "code",
   "execution_count": null,
   "id": "35133153",
   "metadata": {},
   "outputs": [],
   "source": []
  },
  {
   "cell_type": "markdown",
   "id": "01da1617",
   "metadata": {},
   "source": [
    "# Tensor reshaping "
   ]
  },
  {
   "cell_type": "code",
   "execution_count": 86,
   "id": "9e234655",
   "metadata": {},
   "outputs": [
    {
     "data": {
      "text/plain": [
       "tensor([[1., 1., 1., 1.],\n",
       "        [1., 1., 1., 1.],\n",
       "        [1., 1., 1., 1.],\n",
       "        [1., 1., 1., 1.]])"
      ]
     },
     "execution_count": 86,
     "metadata": {},
     "output_type": "execute_result"
    }
   ],
   "source": [
    "ten=t.ones(4,4)\n",
    "ten"
   ]
  },
  {
   "cell_type": "code",
   "execution_count": 89,
   "id": "c44e010c",
   "metadata": {},
   "outputs": [
    {
     "data": {
      "text/plain": [
       "tensor([[[1., 1.],\n",
       "         [1., 1.]],\n",
       "\n",
       "        [[1., 1.],\n",
       "         [1., 1.]],\n",
       "\n",
       "        [[1., 1.],\n",
       "         [1., 1.]],\n",
       "\n",
       "        [[1., 1.],\n",
       "         [1., 1.]]])"
      ]
     },
     "execution_count": 89,
     "metadata": {},
     "output_type": "execute_result"
    }
   ],
   "source": [
    "ten.reshape(4,2,2)"
   ]
  },
  {
   "cell_type": "code",
   "execution_count": 87,
   "id": "68b95223",
   "metadata": {},
   "outputs": [
    {
     "data": {
      "text/plain": [
       "tensor([1., 1., 1., 1., 1., 1., 1., 1., 1., 1., 1., 1., 1., 1., 1., 1.])"
      ]
     },
     "execution_count": 87,
     "metadata": {},
     "output_type": "execute_result"
    }
   ],
   "source": [
    "ten.flatten()"
   ]
  },
  {
   "cell_type": "markdown",
   "id": "99c41148",
   "metadata": {},
   "source": [
    "## squeeze and unsqueeze in matrix "
   ]
  },
  {
   "cell_type": "code",
   "execution_count": 91,
   "id": "1685dc00",
   "metadata": {},
   "outputs": [
    {
     "data": {
      "text/plain": [
       "torch.Size([1, 4, 4])"
      ]
     },
     "execution_count": 91,
     "metadata": {},
     "output_type": "execute_result"
    }
   ],
   "source": [
    "#unsqueeze and squeeze\n",
    "ten.unsqueeze(0).shape  # Adds a dimension at index "
   ]
  },
  {
   "cell_type": "code",
   "execution_count": 92,
   "id": "33159ce5",
   "metadata": {},
   "outputs": [
    {
     "data": {
      "text/plain": [
       "torch.Size([4, 4])"
      ]
     },
     "execution_count": 92,
     "metadata": {},
     "output_type": "execute_result"
    }
   ],
   "source": [
    "#squeeze\n",
    "ten.unsqueeze(0).squeeze(0).shape  # Removes the dimension at index"
   ]
  },
  {
   "cell_type": "markdown",
   "id": "d4d91859",
   "metadata": {},
   "source": [
    "# Tensor Operation on GPU ( if available)"
   ]
  },
  {
   "cell_type": "code",
   "execution_count": 83,
   "id": "7f85a84d",
   "metadata": {},
   "outputs": [
    {
     "data": {
      "text/plain": [
       "False"
      ]
     },
     "execution_count": 83,
     "metadata": {},
     "output_type": "execute_result"
    }
   ],
   "source": [
    "t.cuda.is_available()"
   ]
  },
  {
   "cell_type": "code",
   "execution_count": null,
   "id": "009f7899",
   "metadata": {},
   "outputs": [],
   "source": []
  },
  {
   "cell_type": "markdown",
   "id": "11e8bc01",
   "metadata": {},
   "source": [
    "# Pytorch and Numpy"
   ]
  },
  {
   "cell_type": "code",
   "execution_count": 93,
   "id": "aab6c608",
   "metadata": {},
   "outputs": [
    {
     "data": {
      "text/plain": [
       "tensor([[0.9127, 0.6818, 0.1953],\n",
       "        [0.9991, 0.1133, 0.0135],\n",
       "        [0.1450, 0.7819, 0.3134]])"
      ]
     },
     "execution_count": 93,
     "metadata": {},
     "output_type": "execute_result"
    }
   ],
   "source": [
    "arr=t.rand(3,3)\n",
    "arr"
   ]
  },
  {
   "cell_type": "code",
   "execution_count": 94,
   "id": "ce33b70f",
   "metadata": {},
   "outputs": [
    {
     "name": "stdout",
     "output_type": "stream",
     "text": [
      "NumPy array:\n",
      " [[0.9126876  0.681768   0.19533807]\n",
      " [0.9990713  0.11334324 0.01352   ]\n",
      " [0.1450094  0.78194916 0.3133915 ]]\n"
     ]
    }
   ],
   "source": [
    "import numpy as np\n",
    "arr_np = arr.numpy()  # ConvertPyTorch tensor to NumPy array\n",
    "print(\"NumPy array:\\n\", arr_np)"
   ]
  },
  {
   "cell_type": "code",
   "execution_count": 96,
   "id": "10387c9a",
   "metadata": {},
   "outputs": [
    {
     "data": {
      "text/plain": [
       "numpy.ndarray"
      ]
     },
     "execution_count": 96,
     "metadata": {},
     "output_type": "execute_result"
    }
   ],
   "source": [
    "type(arr_np)"
   ]
  },
  {
   "cell_type": "code",
   "execution_count": 99,
   "id": "529f8f71",
   "metadata": {},
   "outputs": [
    {
     "data": {
      "text/plain": [
       "tensor([[0.9127, 0.6818, 0.1953],\n",
       "        [0.9991, 0.1133, 0.0135],\n",
       "        [0.1450, 0.7819, 0.3134]])"
      ]
     },
     "execution_count": 99,
     "metadata": {},
     "output_type": "execute_result"
    }
   ],
   "source": [
    "# ndarray to tensor\n",
    "arr_back = t.from_numpy(arr_np)  # Convert NumPy array back to PyTorch\n",
    "arr_back"
   ]
  },
  {
   "cell_type": "code",
   "execution_count": null,
   "id": "f8076c65",
   "metadata": {},
   "outputs": [],
   "source": []
  }
 ],
 "metadata": {
  "kernelspec": {
   "display_name": "DL",
   "language": "python",
   "name": "python3"
  },
  "language_info": {
   "codemirror_mode": {
    "name": "ipython",
    "version": 3
   },
   "file_extension": ".py",
   "mimetype": "text/x-python",
   "name": "python",
   "nbconvert_exporter": "python",
   "pygments_lexer": "ipython3",
   "version": "3.11.1"
  }
 },
 "nbformat": 4,
 "nbformat_minor": 5
}
